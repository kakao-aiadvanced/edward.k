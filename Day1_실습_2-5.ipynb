{
 "cells": [
  {
   "cell_type": "markdown",
   "id": "c4c3dffb-98fa-4d14-98ef-80c38d290e1b",
   "metadata": {},
   "source": [
    "# GPT-3.5-Turbo on GSM8K"
   ]
  },
  {
   "cell_type": "code",
   "execution_count": 1,
   "id": "a96802ef",
   "metadata": {},
   "outputs": [
    {
     "name": "stdout",
     "output_type": "stream",
     "text": [
      "Requirement already satisfied: openai in /opt/homebrew/anaconda3/lib/python3.9/site-packages (1.34.0)\n",
      "Collecting ollama\n",
      "  Downloading ollama-0.2.1-py3-none-any.whl (9.7 kB)\n",
      "Requirement already satisfied: pydantic<3,>=1.9.0 in /opt/homebrew/anaconda3/lib/python3.9/site-packages (from openai) (1.9.2)\n",
      "Requirement already satisfied: httpx<1,>=0.23.0 in /opt/homebrew/anaconda3/lib/python3.9/site-packages (from openai) (0.27.0)\n",
      "Requirement already satisfied: distro<2,>=1.7.0 in /opt/homebrew/anaconda3/lib/python3.9/site-packages (from openai) (1.9.0)\n",
      "Requirement already satisfied: typing-extensions<5,>=4.7 in /opt/homebrew/anaconda3/lib/python3.9/site-packages (from openai) (4.12.2)\n",
      "Requirement already satisfied: sniffio in /opt/homebrew/anaconda3/lib/python3.9/site-packages (from openai) (1.2.0)\n",
      "Requirement already satisfied: anyio<5,>=3.5.0 in /opt/homebrew/anaconda3/lib/python3.9/site-packages (from openai) (3.5.0)\n",
      "Requirement already satisfied: tqdm>4 in /opt/homebrew/anaconda3/lib/python3.9/site-packages (from openai) (4.66.4)\n",
      "Requirement already satisfied: idna>=2.8 in /opt/homebrew/anaconda3/lib/python3.9/site-packages (from anyio<5,>=3.5.0->openai) (3.3)\n",
      "Requirement already satisfied: certifi in /opt/homebrew/anaconda3/lib/python3.9/site-packages (from httpx<1,>=0.23.0->openai) (2022.9.24)\n",
      "Requirement already satisfied: httpcore==1.* in /opt/homebrew/anaconda3/lib/python3.9/site-packages (from httpx<1,>=0.23.0->openai) (1.0.5)\n",
      "Requirement already satisfied: h11<0.15,>=0.13 in /opt/homebrew/anaconda3/lib/python3.9/site-packages (from httpcore==1.*->httpx<1,>=0.23.0->openai) (0.14.0)\n",
      "Installing collected packages: ollama\n",
      "Successfully installed ollama-0.2.1\n"
     ]
    }
   ],
   "source": [
    "!pip install openai ollama"
   ]
  },
  {
   "cell_type": "code",
   "execution_count": 24,
   "id": "2f7c15ca-974a-49aa-8212-d9b6730df39a",
   "metadata": {
    "tags": []
   },
   "outputs": [],
   "source": [
    "import ollama\n",
    "\n",
    "def create_prompt():\n",
    "    prompt = f\"\"\"\n",
    "    Select the most appropriate role (math teacher or history teacher) for the user's question.\n",
    "\n",
    "    1. Receive user input.\n",
    "    2. Analyze the entered question to determine if it is a math question or a history question.\n",
    "    - Example of a math-related question: \"What is Newton’s law?\"\n",
    "    - Example of a history-related question: \"How did World War I end?\"\n",
    "    3. If the question is math-related, select 'math teacher.'\n",
    "    4. If the question is history-related, select 'history teacher.'\n",
    "    5. Output the selected role.\n",
    "\n",
    "    User input: \n",
    "    \"\"\"\n",
    "\n",
    "    return prompt\n",
    "\n",
    "def chat(question):\n",
    "    return ollama.chat(model='llama3', messages=[\n",
    "        {\"role\": \"system\", \"content\": create_prompt()},\n",
    "        {\"role\": \"user\", \"content\": question}\n",
    "    ])\n",
    "\n"
   ]
  },
  {
   "cell_type": "code",
   "execution_count": 25,
   "id": "0ae53f2b",
   "metadata": {},
   "outputs": [
    {
     "name": "stdout",
     "output_type": "stream",
     "text": [
      "{'model': 'phi3', 'created_at': '2024-06-17T09:30:20.6637Z', 'message': {'role': 'assistant', 'content': ' Math Teacher\\n\\nThe user\\'s question \"What is Newton\\'s law?\" refers to a mathematical or scientific concept, which falls under the expertise of a math teacher. In this case, specifically, it could be asking about one of Newton\\'s laws such as his three laws of motion in physics, which are related to mathematics and science.'}, 'done_reason': 'stop', 'done': True, 'total_duration': 6124380083, 'load_duration': 4164719917, 'prompt_eval_count': 266, 'prompt_eval_duration': 516506000, 'eval_count': 73, 'eval_duration': 1394847000}\n"
     ]
    }
   ],
   "source": [
    "print(chat(\"What is Newton’s law?\"))"
   ]
  }
 ],
 "metadata": {
  "kernelspec": {
   "display_name": "Python 3 (ipykernel)",
   "language": "python",
   "name": "python3"
  },
  "language_info": {
   "codemirror_mode": {
    "name": "ipython",
    "version": 3
   },
   "file_extension": ".py",
   "mimetype": "text/x-python",
   "name": "python",
   "nbconvert_exporter": "python",
   "pygments_lexer": "ipython3",
   "version": "3.10.10"
  }
 },
 "nbformat": 4,
 "nbformat_minor": 5
}
