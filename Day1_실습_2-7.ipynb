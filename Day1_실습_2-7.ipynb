{
 "cells": [
  {
   "cell_type": "markdown",
   "id": "c4c3dffb-98fa-4d14-98ef-80c38d290e1b",
   "metadata": {},
   "source": [
    "# GPT-3.5-Turbo on GSM8K"
   ]
  },
  {
   "cell_type": "code",
   "execution_count": 1,
   "id": "a96802ef",
   "metadata": {},
   "outputs": [
    {
     "name": "stdout",
     "output_type": "stream",
     "text": [
      "Requirement already satisfied: openai in /opt/homebrew/anaconda3/lib/python3.9/site-packages (1.34.0)\n",
      "Collecting ollama\n",
      "  Downloading ollama-0.2.1-py3-none-any.whl (9.7 kB)\n",
      "Requirement already satisfied: pydantic<3,>=1.9.0 in /opt/homebrew/anaconda3/lib/python3.9/site-packages (from openai) (1.9.2)\n",
      "Requirement already satisfied: httpx<1,>=0.23.0 in /opt/homebrew/anaconda3/lib/python3.9/site-packages (from openai) (0.27.0)\n",
      "Requirement already satisfied: distro<2,>=1.7.0 in /opt/homebrew/anaconda3/lib/python3.9/site-packages (from openai) (1.9.0)\n",
      "Requirement already satisfied: typing-extensions<5,>=4.7 in /opt/homebrew/anaconda3/lib/python3.9/site-packages (from openai) (4.12.2)\n",
      "Requirement already satisfied: sniffio in /opt/homebrew/anaconda3/lib/python3.9/site-packages (from openai) (1.2.0)\n",
      "Requirement already satisfied: anyio<5,>=3.5.0 in /opt/homebrew/anaconda3/lib/python3.9/site-packages (from openai) (3.5.0)\n",
      "Requirement already satisfied: tqdm>4 in /opt/homebrew/anaconda3/lib/python3.9/site-packages (from openai) (4.66.4)\n",
      "Requirement already satisfied: idna>=2.8 in /opt/homebrew/anaconda3/lib/python3.9/site-packages (from anyio<5,>=3.5.0->openai) (3.3)\n",
      "Requirement already satisfied: certifi in /opt/homebrew/anaconda3/lib/python3.9/site-packages (from httpx<1,>=0.23.0->openai) (2022.9.24)\n",
      "Requirement already satisfied: httpcore==1.* in /opt/homebrew/anaconda3/lib/python3.9/site-packages (from httpx<1,>=0.23.0->openai) (1.0.5)\n",
      "Requirement already satisfied: h11<0.15,>=0.13 in /opt/homebrew/anaconda3/lib/python3.9/site-packages (from httpcore==1.*->httpx<1,>=0.23.0->openai) (0.14.0)\n",
      "Installing collected packages: ollama\n",
      "Successfully installed ollama-0.2.1\n"
     ]
    }
   ],
   "source": [
    "!pip install openai ollama"
   ]
  },
  {
   "cell_type": "code",
   "execution_count": 3,
   "id": "2f7c15ca-974a-49aa-8212-d9b6730df39a",
   "metadata": {
    "tags": []
   },
   "outputs": [],
   "source": [
    "import ollama\n",
    "\n",
    "def create_prompt():\n",
    "    prompt = f\"\"\"\n",
    "사용자의 질문에 답변하기에 더 적합한 역할(수학 교사 또는 역사 교사)을 결정하세요.\n",
    "\n",
    "1. 사용자 입력을 받습니다.\n",
    "2. 입력을 분석하여 수학 질문인지 역사 질문인지 판단합니다.\n",
    "   - 수학 교사:\n",
    "       - 전문 분야: 수학 이론, 수학 공식, 물리학의 수학적 개념, 계산 및 문제 해결\n",
    "       - 예시 질문: \"뉴턴의 법칙이 무엇인가요?\", \"피타고라스 정리를 설명해 주시겠어요?\", \"이차 방정식은 어떻게 푸나요?\"\n",
    "   - 역사 교사:\n",
    "       - 전문 분야: 세계사, 전쟁과 평화의 역사, 역사적 사건, 역사적 인물, 문화사\n",
    "       - 예시 질문: \"제1차 세계대전은 어떻게 끝났나요?\", \"미국의 첫 번째 대통령은 누구였나요?\", \"프랑스 혁명의 원인은 무엇이었나요?\"\n",
    "3. 질문이 수학과 관련이 있다면 '수학 교사'를 선택합니다.\n",
    "4. 질문이 역사와 관련이 있다면 '역사 교사'를 선택합니다.\n",
    "5. 선택된 역할을 출력합니다.\n",
    "\n",
    "사용자 입력:\n",
    "    \"\"\"\n",
    "\n",
    "    return prompt\n",
    "\n",
    "def chat(question):\n",
    "    return ollama.chat(model='llama3', messages=[\n",
    "        {\"role\": \"system\", \"content\": create_prompt()},\n",
    "        {\"role\": \"user\", \"content\": question}\n",
    "    ])\n",
    "\n"
   ]
  },
  {
   "cell_type": "code",
   "execution_count": 5,
   "id": "0ae53f2b",
   "metadata": {},
   "outputs": [
    {
     "name": "stdout",
     "output_type": "stream",
     "text": [
      "수학 교사!\n",
      "\n",
      "근의 공식, 즉 원주율(π) 공식은 다음과 같습니다.\n",
      "\n",
      "원주율 π = 4 × (1 - 1/3 + 1/5 - 1/7 + ...) = 4 × SUM(1/(2n-1))^(-1)\n",
      "\n",
      "이 공식은 레오나르트 에ULER가 제안한 것으로, 원주율을 지수 함수를 사용하여 근사적으로 나타내는 방법입니다. 이 공식은 수렴적 성질을 가지고 있어 실제 원주율과 매우 가까운 값을 제공합니다.\n",
      "\n",
      "한글로 설명해 드리자면, '근의 공식'이란 원주율을 표현하는 공식입니다. 이 공식에서는 1부터 시작하여 2n-1으로 끝나는 지수 함수를 더해 원주율을 근사적으로 나타내는 방법입니다.\n"
     ]
    }
   ],
   "source": [
    "response = chat(\"근의 공식은 무엇인가? 한글로 답해줘.\")\n",
    "\n",
    "print(response['message']['content'])"
   ]
  }
 ],
 "metadata": {
  "kernelspec": {
   "display_name": "Python 3 (ipykernel)",
   "language": "python",
   "name": "python3"
  },
  "language_info": {
   "codemirror_mode": {
    "name": "ipython",
    "version": 3
   },
   "file_extension": ".py",
   "mimetype": "text/x-python",
   "name": "python",
   "nbconvert_exporter": "python",
   "pygments_lexer": "ipython3",
   "version": "3.9.13"
  }
 },
 "nbformat": 4,
 "nbformat_minor": 5
}
