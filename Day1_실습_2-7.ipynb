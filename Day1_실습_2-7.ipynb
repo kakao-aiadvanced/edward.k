{
 "cells": [
  {
   "cell_type": "markdown",
   "id": "c4c3dffb-98fa-4d14-98ef-80c38d290e1b",
   "metadata": {},
   "source": [
    "# GPT-3.5-Turbo on GSM8K"
   ]
  },
  {
   "cell_type": "code",
   "execution_count": 1,
   "id": "a96802ef",
   "metadata": {},
   "outputs": [
    {
     "name": "stdout",
     "output_type": "stream",
     "text": [
      "Requirement already satisfied: openai in /opt/homebrew/anaconda3/lib/python3.9/site-packages (1.34.0)\n",
      "Collecting ollama\n",
      "  Downloading ollama-0.2.1-py3-none-any.whl (9.7 kB)\n",
      "Requirement already satisfied: pydantic<3,>=1.9.0 in /opt/homebrew/anaconda3/lib/python3.9/site-packages (from openai) (1.9.2)\n",
      "Requirement already satisfied: httpx<1,>=0.23.0 in /opt/homebrew/anaconda3/lib/python3.9/site-packages (from openai) (0.27.0)\n",
      "Requirement already satisfied: distro<2,>=1.7.0 in /opt/homebrew/anaconda3/lib/python3.9/site-packages (from openai) (1.9.0)\n",
      "Requirement already satisfied: typing-extensions<5,>=4.7 in /opt/homebrew/anaconda3/lib/python3.9/site-packages (from openai) (4.12.2)\n",
      "Requirement already satisfied: sniffio in /opt/homebrew/anaconda3/lib/python3.9/site-packages (from openai) (1.2.0)\n",
      "Requirement already satisfied: anyio<5,>=3.5.0 in /opt/homebrew/anaconda3/lib/python3.9/site-packages (from openai) (3.5.0)\n",
      "Requirement already satisfied: tqdm>4 in /opt/homebrew/anaconda3/lib/python3.9/site-packages (from openai) (4.66.4)\n",
      "Requirement already satisfied: idna>=2.8 in /opt/homebrew/anaconda3/lib/python3.9/site-packages (from anyio<5,>=3.5.0->openai) (3.3)\n",
      "Requirement already satisfied: certifi in /opt/homebrew/anaconda3/lib/python3.9/site-packages (from httpx<1,>=0.23.0->openai) (2022.9.24)\n",
      "Requirement already satisfied: httpcore==1.* in /opt/homebrew/anaconda3/lib/python3.9/site-packages (from httpx<1,>=0.23.0->openai) (1.0.5)\n",
      "Requirement already satisfied: h11<0.15,>=0.13 in /opt/homebrew/anaconda3/lib/python3.9/site-packages (from httpcore==1.*->httpx<1,>=0.23.0->openai) (0.14.0)\n",
      "Installing collected packages: ollama\n",
      "Successfully installed ollama-0.2.1\n"
     ]
    }
   ],
   "source": [
    "!pip install openai ollama"
   ]
  },
  {
   "cell_type": "code",
   "execution_count": 1,
   "id": "2f7c15ca-974a-49aa-8212-d9b6730df39a",
   "metadata": {
    "tags": []
   },
   "outputs": [],
   "source": [
    "import ollama\n",
    "\n",
    "def create_prompt():\n",
    "    prompt = f\"\"\"\n",
    "    Determine which role (Math Teacher or History Teacher) is more suitable to answer the user's question.\n",
    "\n",
    "    1. Receive user input.\n",
    "    2. Analyze the input to determine if it is a math question or a history question.\n",
    "    - Math Teacher:\n",
    "        - Expertise: Mathematical theories, mathematical formulas, mathematical concepts in physics, calculations, and problem-solving.\n",
    "        - Example Questions: \"What is Newton’s law?\", \"Can you explain the Pythagorean theorem?\", \"How do you solve a quadratic equation?\"\n",
    "    - History Teacher:\n",
    "        - Expertise: World history, history of wars and peace, historical events, historical figures, cultural history.\n",
    "        - Example Questions: \"How did World War I end?\", \"Who was the first president of the United States?\", \"What were the causes of the French Revolution?\"\n",
    "    3. If the question is related to math, select 'Math Teacher'.\n",
    "    4. If the question is related to history, select 'History Teacher'.\n",
    "    5. Output the selected role.\n",
    "\n",
    "    User Input: \n",
    "    \"\"\"\n",
    "\n",
    "    return prompt\n",
    "\n",
    "def chat(question):\n",
    "    return ollama.chat(model='llama3', messages=[\n",
    "        {\"role\": \"system\", \"content\": create_prompt()},\n",
    "        {\"role\": \"user\", \"content\": question}\n",
    "    ])\n",
    "\n"
   ]
  },
  {
   "cell_type": "code",
   "execution_count": 2,
   "id": "0ae53f2b",
   "metadata": {},
   "outputs": [
    {
     "name": "stdout",
     "output_type": "stream",
     "text": [
      "Based on your input, I determine that you are asking a math-related question. Therefore, I select... the Math Teacher!\n",
      "\n",
      "Here's an answer to your question:\n",
      "\n",
      "Newton's laws of motion are three statements that describe how objects move and respond to forces. There are three laws:\n",
      "\n",
      "1. The first law states that an object at rest will remain at rest, and an object in motion will continue to move with a constant velocity, unless acted upon by an external force.\n",
      "2. The second law relates the force applied to an object to its resulting acceleration. F = ma (force equals mass times acceleration).\n",
      "3. The third law states that for every action, there is an equal and opposite reaction.\n",
      "\n",
      "These laws were first presented by Sir Isaac Newton in the late 17th century and have been widely used to understand and predict the motion of objects ever since!\n"
     ]
    }
   ],
   "source": [
    "response = chat(\"What is Newton’s law?\")\n",
    "\n",
    "print(response['message']['content'])"
   ]
  }
 ],
 "metadata": {
  "kernelspec": {
   "display_name": "Python 3 (ipykernel)",
   "language": "python",
   "name": "python3"
  },
  "language_info": {
   "codemirror_mode": {
    "name": "ipython",
    "version": 3
   },
   "file_extension": ".py",
   "mimetype": "text/x-python",
   "name": "python",
   "nbconvert_exporter": "python",
   "pygments_lexer": "ipython3",
   "version": "3.9.13"
  }
 },
 "nbformat": 4,
 "nbformat_minor": 5
}
